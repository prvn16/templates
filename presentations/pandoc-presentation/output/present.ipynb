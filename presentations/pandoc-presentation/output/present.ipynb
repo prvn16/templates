{
 "cells": [
  {
   "cell_type": "markdown",
   "metadata": {
    "slideshow": {
     "slide_type": "slide"
    }
   },
   "source": [
    "## Normal lists\n",
    "<div class=\"notes\">\n",
    "Full documentation at\n",
    "http://pandoc.org/README.html#producing-slide-shows-with-pandoc\n",
    "\n",
    "\n",
    "↪  pandoc -t beamer -s present.pandoc -H header.tex -o beamer.pdf\n",
    "</div>\n",
    "\n",
    "- Turn off alarm\n",
    "- Get out of bed\n",
    "\n",
    "\\begin{info}{Title}\n",
    "This is a theorem it is very important!!\n",
    "\\end{info}\n",
    "\\begin{warning}{Title}\n",
    "This is a theorem it is very important!!\n",
    "\\end{warning}"
   ]
  },
  {
   "cell_type": "markdown",
   "metadata": {
    "slideshow": {
     "slide_type": "slide"
    }
   },
   "source": [
    "## Pauses\n",
    "\n",
    "> You didn't use a pause.\n",
    "\n",
    ". . .\n",
    "\n",
    "> Huh? I just did!"
   ]
  },
  {
   "cell_type": "markdown",
   "metadata": {
    "slideshow": {
     "slide_type": "slide"
    }
   },
   "source": [
    "## Code blocks"
   ]
  },
  {
   "cell_type": "code",
   "execution_count": null,
   "metadata": {
    "collapsed": true
   },
   "outputs": [],
   "source": [
    "string_ = \"This is a string\"\n",
    "for s in string_:\n",
    "    print(s, end='')\n",
    "\n",
    "import numpy as np\n",
    "a = np.random.randn(10)\n",
    "b = np.random.randn(20)\n",
    "c = a @ b\n",
    "print(c)"
   ]
  },
  {
   "cell_type": "markdown",
   "metadata": {
    "slideshow": {
     "slide_type": "slide"
    }
   },
   "source": [
    "## Incremental lists\n",
    "\n",
    ">- Eat eggs\n",
    ">- Drink coffee\n",
    "\n",
    "\n",
    "## Dinner\n",
    "\n",
    "- Eat spaghetti\n",
    "- Drink wine\n",
    "    - Nested list item\n",
    "    - Nested list item 2\n",
    "\n",
    "![picture of spaghetti](horse.jpg)\n",
    "\n",
    "## Going to sleep\n",
    "\n",
    "- Get in bed\n",
    "- Count sheep"
   ]
  }
 ],
 "metadata": {
  "celltoolbar": "Slideshow",
  "kernelspec": {
   "display_name": "Python 3",
   "language": "python",
   "name": "python3"
  },
  "language_info": {
   "codemirror_mode": {
    "name": "ipython",
    "version": 3
   },
   "file_extension": ".py",
   "mimetype": "text/x-python",
   "name": "python",
   "nbconvert_exporter": "python",
   "pygments_lexer": "ipython3",
   "version": "3.5.1"
  }
 },
 "nbformat": 4,
 "nbformat_minor": 0
}
